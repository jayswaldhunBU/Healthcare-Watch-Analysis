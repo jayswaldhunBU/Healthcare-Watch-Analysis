{
 "cells": [
  {
   "cell_type": "code",
   "execution_count": 1,
   "metadata": {},
   "outputs": [],
   "source": [
    "import pandas as pd\n",
    "import matplotlib.pyplot as plt\n",
    "from scipy import stats\n"
   ]
  },
  {
   "cell_type": "code",
   "execution_count": 2,
   "metadata": {},
   "outputs": [],
   "source": [
    "fridayam = pd.read_csv('FridayAM6.csv', encoding= 'unicode_escape')\n",
    "fridayam = fridayam.dropna()\n",
    "\n",
    "fridaypm = pd.read_csv('FridayPM6.csv', encoding= 'unicode_escape')\n",
    "fridaypm = fridaypm.dropna()"
   ]
  },
  {
   "cell_type": "code",
   "execution_count": 3,
   "metadata": {},
   "outputs": [],
   "source": [
    "fridayam[\"flourishing_score\"] = fridayam[\"LIFE_SATISFACTION\"] + fridayam[\"HAPPINESS\"] + fridayam[\"PHYSICAL_HEALTH\"] + fridayam[\"MENTAL_HEALTH\"] + fridayam[\"WORTHWHILE\"] + fridayam[\"PURPOSE\"] + fridayam[\"PROMOTE_GOOD\"] + fridayam[\"DELAYED_HAPPINESS\"] + fridayam[\"CONTENT_RELATIONSHIPS\"] + fridayam[\"SATISFYING_RELATIONSHIPS\"] + fridayam[\"LIVING_EXPENSES\"] + fridayam[\"FOOD_HOUSING\"]"
   ]
  },
  {
   "cell_type": "code",
   "execution_count": 4,
   "metadata": {},
   "outputs": [],
   "source": [
    "fridaypm['Trust'] = fridaypm['TRUST_1'] + fridaypm['TRUST_2'] + fridaypm['TRUST_3'] + fridaypm['TRUST_4'] + fridaypm['TRUST_5']\n",
    "fridaypm['Trust'] = fridaypm['Trust'] / 5\n",
    "\n",
    "fridaypm['Flexibility'] = fridaypm['FLEXIBILITY_6'] + fridaypm['FLEXIBILITY_7'] + fridaypm['FLEXIBILITY_8'] + fridaypm['FLEXIBILITY_9']\n",
    "fridaypm['Flexibility'] = fridaypm['Flexibility'] / 4\n",
    "\n",
    "fridaypm['Work_life'] = fridaypm['WORK_LIFE_10'] + fridaypm['WORK_LIFE_11'] + fridaypm['WORK_LIFE_12'] + fridaypm['WORK_LIFE_13'] + fridaypm['WORK_LIFE_14'] + fridaypm['WORK_LIFE_15']\n",
    "fridaypm['Work_life'] = fridaypm['Work_life'] / 6\n",
    "\n",
    "fridaypm['Productivity'] = fridaypm['PRODUCTIVITY_16'] + fridaypm['PRODUCTIVITY_17'] + fridaypm['PRODUCTIVITY_18'] + fridaypm['PRODUCTIVITY_19'] + fridaypm['PRODUCTIVITY_20'] + fridaypm['PRODUCTIVITY_21']\n",
    "fridaypm['Productivity'] = fridaypm['Productivity'] / 5"
   ]
  },
  {
   "cell_type": "code",
   "execution_count": 5,
   "metadata": {},
   "outputs": [],
   "source": [
    "fridaypm['E-Work_life_scale'] = fridaypm['Trust'] + fridaypm['Flexibility'] + fridaypm['Work_life'] + fridaypm['Productivity']\n",
    "fridaypm['E-Work_life_scale'] = fridaypm['E-Work_life_scale'] / 4"
   ]
  },
  {
   "cell_type": "code",
   "execution_count": 6,
   "metadata": {},
   "outputs": [
    {
     "data": {
      "text/html": [
       "<div>\n",
       "<style scoped>\n",
       "    .dataframe tbody tr th:only-of-type {\n",
       "        vertical-align: middle;\n",
       "    }\n",
       "\n",
       "    .dataframe tbody tr th {\n",
       "        vertical-align: top;\n",
       "    }\n",
       "\n",
       "    .dataframe thead th {\n",
       "        text-align: right;\n",
       "    }\n",
       "</style>\n",
       "<table border=\"1\" class=\"dataframe\">\n",
       "  <thead>\n",
       "    <tr style=\"text-align: right;\">\n",
       "      <th></th>\n",
       "      <th>E-Work_life_scale</th>\n",
       "      <th>flourishing_score</th>\n",
       "    </tr>\n",
       "  </thead>\n",
       "  <tbody>\n",
       "    <tr>\n",
       "      <th>0</th>\n",
       "      <td>1.404167</td>\n",
       "      <td>85.0</td>\n",
       "    </tr>\n",
       "    <tr>\n",
       "      <th>1</th>\n",
       "      <td>1.050000</td>\n",
       "      <td>74.0</td>\n",
       "    </tr>\n",
       "    <tr>\n",
       "      <th>2</th>\n",
       "      <td>1.279167</td>\n",
       "      <td>128.0</td>\n",
       "    </tr>\n",
       "    <tr>\n",
       "      <th>3</th>\n",
       "      <td>1.050000</td>\n",
       "      <td>80.0</td>\n",
       "    </tr>\n",
       "    <tr>\n",
       "      <th>4</th>\n",
       "      <td>1.216667</td>\n",
       "      <td>91.0</td>\n",
       "    </tr>\n",
       "    <tr>\n",
       "      <th>5</th>\n",
       "      <td>1.516667</td>\n",
       "      <td>86.0</td>\n",
       "    </tr>\n",
       "    <tr>\n",
       "      <th>6</th>\n",
       "      <td>1.216667</td>\n",
       "      <td>93.0</td>\n",
       "    </tr>\n",
       "    <tr>\n",
       "      <th>7</th>\n",
       "      <td>1.216667</td>\n",
       "      <td>89.0</td>\n",
       "    </tr>\n",
       "    <tr>\n",
       "      <th>8</th>\n",
       "      <td>1.216667</td>\n",
       "      <td>102.0</td>\n",
       "    </tr>\n",
       "    <tr>\n",
       "      <th>12</th>\n",
       "      <td>3.316667</td>\n",
       "      <td>97.0</td>\n",
       "    </tr>\n",
       "    <tr>\n",
       "      <th>13</th>\n",
       "      <td>3.216667</td>\n",
       "      <td>89.0</td>\n",
       "    </tr>\n",
       "    <tr>\n",
       "      <th>14</th>\n",
       "      <td>1.379167</td>\n",
       "      <td>102.0</td>\n",
       "    </tr>\n",
       "    <tr>\n",
       "      <th>16</th>\n",
       "      <td>1.175000</td>\n",
       "      <td>92.0</td>\n",
       "    </tr>\n",
       "    <tr>\n",
       "      <th>17</th>\n",
       "      <td>1.175000</td>\n",
       "      <td>114.0</td>\n",
       "    </tr>\n",
       "    <tr>\n",
       "      <th>18</th>\n",
       "      <td>1.133333</td>\n",
       "      <td>112.0</td>\n",
       "    </tr>\n",
       "    <tr>\n",
       "      <th>19</th>\n",
       "      <td>1.050000</td>\n",
       "      <td>112.0</td>\n",
       "    </tr>\n",
       "    <tr>\n",
       "      <th>20</th>\n",
       "      <td>1.570833</td>\n",
       "      <td>108.0</td>\n",
       "    </tr>\n",
       "    <tr>\n",
       "      <th>21</th>\n",
       "      <td>1.758333</td>\n",
       "      <td>111.0</td>\n",
       "    </tr>\n",
       "    <tr>\n",
       "      <th>22</th>\n",
       "      <td>2.100000</td>\n",
       "      <td>111.0</td>\n",
       "    </tr>\n",
       "    <tr>\n",
       "      <th>23</th>\n",
       "      <td>1.408333</td>\n",
       "      <td>104.0</td>\n",
       "    </tr>\n",
       "  </tbody>\n",
       "</table>\n",
       "</div>"
      ],
      "text/plain": [
       "    E-Work_life_scale  flourishing_score\n",
       "0            1.404167               85.0\n",
       "1            1.050000               74.0\n",
       "2            1.279167              128.0\n",
       "3            1.050000               80.0\n",
       "4            1.216667               91.0\n",
       "5            1.516667               86.0\n",
       "6            1.216667               93.0\n",
       "7            1.216667               89.0\n",
       "8            1.216667              102.0\n",
       "12           3.316667               97.0\n",
       "13           3.216667               89.0\n",
       "14           1.379167              102.0\n",
       "16           1.175000               92.0\n",
       "17           1.175000              114.0\n",
       "18           1.133333              112.0\n",
       "19           1.050000              112.0\n",
       "20           1.570833              108.0\n",
       "21           1.758333              111.0\n",
       "22           2.100000              111.0\n",
       "23           1.408333              104.0"
      ]
     },
     "execution_count": 6,
     "metadata": {},
     "output_type": "execute_result"
    }
   ],
   "source": [
    "#combine ework life scale and flourishing score into one dataframe\n",
    "df = fridaypm['E-Work_life_scale'], fridayam['flourishing_score']\n",
    "df = pd.concat(df, axis=1)\n",
    "df = df.dropna()\n",
    "df.head(20)"
   ]
  },
  {
   "cell_type": "code",
   "execution_count": 7,
   "metadata": {},
   "outputs": [
    {
     "name": "stdout",
     "output_type": "stream",
     "text": [
      "724\n",
      "724\n"
     ]
    }
   ],
   "source": [
    "#print e work life scale size\n",
    "print(df['E-Work_life_scale'].size)\n",
    "\n",
    "#print flourishing scale size\n",
    "print(df['flourishing_score'].size)"
   ]
  },
  {
   "cell_type": "code",
   "execution_count": 8,
   "metadata": {},
   "outputs": [
    {
     "data": {
      "image/png": "[encoded data removed]",
      "text/plain": [
       "<Figure size 640x480 with 1 Axes>"
      ]
     },
     "metadata": {},
     "output_type": "display_data"
    }
   ],
   "source": [
    "#plot a scatterplot of e work life scale and flourishing scores\n",
    "plt.scatter(df['E-Work_life_scale'], df['flourishing_score'])\n",
    "plt.xlabel('E-Work life scale')\n",
    "plt.ylabel('Flourishing score')\n",
    "plt.show()\n",
    "\n"
   ]
  },
  {
   "cell_type": "code",
   "execution_count": 11,
   "metadata": {},
   "outputs": [
    {
     "name": "stdout",
     "output_type": "stream",
     "text": [
      "                   E-Work_life_scale  flourishing_score\n",
      "E-Work_life_scale           1.000000           0.000015\n",
      "flourishing_score           0.000015           1.000000\n"
     ]
    }
   ],
   "source": [
    "from scipy.stats import pearsonr\n",
    "    \n",
    "def pearsonr_pval(x,y):\n",
    "    return pearsonr(x,y)[1]\n",
    "\n",
    "newdf = df[['E-Work_life_scale', 'flourishing_score']]\n",
    "corr = newdf.corr(method=pearsonr_pval)\n",
    "print (corr)"
   ]
  }
 ],
 "metadata": {
  "kernelspec": {
   "display_name": "Python 3.11.0 ('my-env')",
   "language": "python",
   "name": "python3"
  },
  "language_info": {
   "codemirror_mode": {
    "name": "ipython",
    "version": 3
   },
   "file_extension": ".py",
   "mimetype": "text/x-python",
   "name": "python",
   "nbconvert_exporter": "python",
   "pygments_lexer": "ipython3",
   "version": "3.11.0"
  },
  "orig_nbformat": 4,
  "vscode": {
   "interpreter": {
    "hash": "f0501675a723b2a198c9cd58c1dbd94e47b3249586e5714748f4e1b8da13cb58"
   }
  }
 },
 "nbformat": 4,
 "nbformat_minor": 2
}
